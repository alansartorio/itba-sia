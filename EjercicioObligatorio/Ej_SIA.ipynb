{
  "nbformat": 4,
  "nbformat_minor": 0,
  "metadata": {
    "colab": {
      "name": "Ej SIA",
      "provenance": [],
      "collapsed_sections": [],
      "include_colab_link": true
    },
    "kernelspec": {
      "name": "python3",
      "display_name": "Python 3"
    },
    "language_info": {
      "name": "python"
    },
    "widgets": {
      "application/vnd.jupyter.widget-state+json": {
        "307e2ce794b04e60927b595917005cce": {
          "model_module": "@jupyter-widgets/controls",
          "model_name": "HTMLModel",
          "model_module_version": "1.5.0",
          "state": {
            "_dom_classes": [],
            "_model_module": "@jupyter-widgets/controls",
            "_model_module_version": "1.5.0",
            "_model_name": "HTMLModel",
            "_view_count": null,
            "_view_module": "@jupyter-widgets/controls",
            "_view_module_version": "1.5.0",
            "_view_name": "HTMLView",
            "description": "",
            "description_tooltip": null,
            "layout": "IPY_MODEL_6724b73e54224a368580f1beac5f367b",
            "placeholder": "​",
            "style": "IPY_MODEL_abe1cfae6c8f4577b4c826ccf5f5a154",
            "value": "Adam ERROR: 0.009994574969863057"
          }
        },
        "6724b73e54224a368580f1beac5f367b": {
          "model_module": "@jupyter-widgets/base",
          "model_name": "LayoutModel",
          "model_module_version": "1.2.0",
          "state": {
            "_model_module": "@jupyter-widgets/base",
            "_model_module_version": "1.2.0",
            "_model_name": "LayoutModel",
            "_view_count": null,
            "_view_module": "@jupyter-widgets/base",
            "_view_module_version": "1.2.0",
            "_view_name": "LayoutView",
            "align_content": null,
            "align_items": null,
            "align_self": null,
            "border": null,
            "bottom": null,
            "display": null,
            "flex": null,
            "flex_flow": null,
            "grid_area": null,
            "grid_auto_columns": null,
            "grid_auto_flow": null,
            "grid_auto_rows": null,
            "grid_column": null,
            "grid_gap": null,
            "grid_row": null,
            "grid_template_areas": null,
            "grid_template_columns": null,
            "grid_template_rows": null,
            "height": null,
            "justify_content": null,
            "justify_items": null,
            "left": null,
            "margin": null,
            "max_height": null,
            "max_width": null,
            "min_height": null,
            "min_width": null,
            "object_fit": null,
            "object_position": null,
            "order": null,
            "overflow": null,
            "overflow_x": null,
            "overflow_y": null,
            "padding": null,
            "right": null,
            "top": null,
            "visibility": null,
            "width": null
          }
        },
        "abe1cfae6c8f4577b4c826ccf5f5a154": {
          "model_module": "@jupyter-widgets/controls",
          "model_name": "DescriptionStyleModel",
          "model_module_version": "1.5.0",
          "state": {
            "_model_module": "@jupyter-widgets/controls",
            "_model_module_version": "1.5.0",
            "_model_name": "DescriptionStyleModel",
            "_view_count": null,
            "_view_module": "@jupyter-widgets/base",
            "_view_module_version": "1.2.0",
            "_view_name": "StyleView",
            "description_width": ""
          }
        },
        "358ed6847eb54c618abd5878e7a14b25": {
          "model_module": "@jupyter-widgets/controls",
          "model_name": "HTMLModel",
          "model_module_version": "1.5.0",
          "state": {
            "_dom_classes": [],
            "_model_module": "@jupyter-widgets/controls",
            "_model_module_version": "1.5.0",
            "_model_name": "HTMLModel",
            "_view_count": null,
            "_view_module": "@jupyter-widgets/controls",
            "_view_module_version": "1.5.0",
            "_view_name": "HTMLView",
            "description": "",
            "description_tooltip": null,
            "layout": "IPY_MODEL_a0d06a6e5f014b0295c9ea3af6f440c3",
            "placeholder": "​",
            "style": "IPY_MODEL_b70807f5c68749a78d912ae9867128c4",
            "value": "SGD ERROR: 0.0099999620552099"
          }
        },
        "a0d06a6e5f014b0295c9ea3af6f440c3": {
          "model_module": "@jupyter-widgets/base",
          "model_name": "LayoutModel",
          "model_module_version": "1.2.0",
          "state": {
            "_model_module": "@jupyter-widgets/base",
            "_model_module_version": "1.2.0",
            "_model_name": "LayoutModel",
            "_view_count": null,
            "_view_module": "@jupyter-widgets/base",
            "_view_module_version": "1.2.0",
            "_view_name": "LayoutView",
            "align_content": null,
            "align_items": null,
            "align_self": null,
            "border": null,
            "bottom": null,
            "display": null,
            "flex": null,
            "flex_flow": null,
            "grid_area": null,
            "grid_auto_columns": null,
            "grid_auto_flow": null,
            "grid_auto_rows": null,
            "grid_column": null,
            "grid_gap": null,
            "grid_row": null,
            "grid_template_areas": null,
            "grid_template_columns": null,
            "grid_template_rows": null,
            "height": null,
            "justify_content": null,
            "justify_items": null,
            "left": null,
            "margin": null,
            "max_height": null,
            "max_width": null,
            "min_height": null,
            "min_width": null,
            "object_fit": null,
            "object_position": null,
            "order": null,
            "overflow": null,
            "overflow_x": null,
            "overflow_y": null,
            "padding": null,
            "right": null,
            "top": null,
            "visibility": null,
            "width": null
          }
        },
        "b70807f5c68749a78d912ae9867128c4": {
          "model_module": "@jupyter-widgets/controls",
          "model_name": "DescriptionStyleModel",
          "model_module_version": "1.5.0",
          "state": {
            "_model_module": "@jupyter-widgets/controls",
            "_model_module_version": "1.5.0",
            "_model_name": "DescriptionStyleModel",
            "_view_count": null,
            "_view_module": "@jupyter-widgets/base",
            "_view_module_version": "1.2.0",
            "_view_name": "StyleView",
            "description_width": ""
          }
        }
      }
    }
  },
  "cells": [
    {
      "cell_type": "markdown",
      "metadata": {
        "id": "view-in-github",
        "colab_type": "text"
      },
      "source": [
        "<a href=\"https://colab.research.google.com/github/alansartorio/itba-sia/blob/main/EjercicioObligatorio/Ej_SIA.ipynb\" target=\"_parent\"><img src=\"https://colab.research.google.com/assets/colab-badge.svg\" alt=\"Open In Colab\"/></a>"
      ]
    },
    {
      "cell_type": "code",
      "execution_count": 2,
      "metadata": {
        "id": "WB3RkfY5gGur"
      },
      "outputs": [],
      "source": [
        "import tensorflow as tf\n",
        "from tensorflow import keras\n",
        "import scipy\n",
        "from functools import partial\n",
        "import numpy as np\n",
        "\n"
      ]
    },
    {
      "cell_type": "code",
      "source": [
        "ξ = np.array([[4.4793, -4.0765, -4.0765], [-4.1793, -4.9218, 1.7664], [-3.9429, -0.7689, 4.8830]], dtype=np.float64)\n",
        "ζ = np.array([0, 1, 1], dtype=np.float64)"
      ],
      "metadata": {
        "id": "ga97SrKzq2BF"
      },
      "execution_count": 3,
      "outputs": []
    },
    {
      "cell_type": "code",
      "source": [
        "from math import exp\n",
        "\n",
        "def numpy_F(W, w, wₒ, ξ):\n",
        "  def g(x):\n",
        "    return np.exp(x)/(1+np.exp(x))\n",
        "  \n",
        "  \n",
        "  def inner_sum(W, w, wₒ, ξ, j):\n",
        "    return np.dot(w[j, :], ξ) - wₒ[j]\n",
        "  \n",
        "  def outer_sum(W, w, wₒ, ξ):\n",
        "    return (W[1]*g(inner_sum(W, w, wₒ, ξ, 0)) + W[2]*g(inner_sum(W, w, wₒ, ξ, 1))) - W[0]\n",
        "  \n",
        "  def F(W, w, wₒ, ξ):\n",
        "    return g(outer_sum(W, w, wₒ, ξ))\n",
        "  \n",
        "  return F(W, w, wₒ, ξ)\n",
        "  \n",
        "def numpy_E(W, w, wₒ):\n",
        "  def E(W, w, wₒ):\n",
        "    return np.sum((ζ - numpy_F(W, w, wₒ, ξ)) ** 2)\n",
        "  \n",
        "  return E(W, w, wₒ)\n",
        "\n",
        "@tf.function\n",
        "def tensor_F(W, w, wₒ, ξ):\n",
        "  def g(x):\n",
        "    return tf.math.exp(x)/(1+tf.math.exp(x))\n",
        "  \n",
        "  \n",
        "  def inner_sum(W, w, wₒ, ξ, j):\n",
        "    return tf.tensordot(w[j, :], ξ, 1) - wₒ[j]\n",
        "  \n",
        "  def outer_sum(W, w, wₒ, ξ):\n",
        "    return (W[1]*g(inner_sum(W, w, wₒ, ξ, 0)) + W[2]*g(inner_sum(W, w, wₒ, ξ, 1))) - W[0]\n",
        "  \n",
        "  def F(W, w, wₒ, ξ):\n",
        "    return g(outer_sum(W, w, wₒ, ξ))\n",
        "  \n",
        "  return F(W, w, wₒ, ξ)\n",
        "  \n",
        "@tf.function\n",
        "def tensor_E(W, w, wₒ):\n",
        "  def E(W, w, wₒ):\n",
        "    return tf.math.reduce_sum((ζ - tensor_F(W, w, wₒ, ξ)) ** 2)\n",
        "  \n",
        "  return E(W, w, wₒ)\n",
        "\n",
        "def map_inputs(x):\n",
        "  return x[0:3], np.reshape(x[3:9], (2, 3)), x[9:]"
      ],
      "metadata": {
        "id": "mamaiuBAkD_y"
      },
      "execution_count": 4,
      "outputs": []
    },
    {
      "cell_type": "code",
      "source": [
        "import matplotlib.pyplot as plt\n",
        "from IPython.display import display\n",
        "from ipywidgets import IntProgress, HTML, VBox\n",
        "\n",
        "errors=[]\n",
        "def callback(values):\n",
        "  errors.append(numpy_E(*map_inputs(values)))\n",
        "\n",
        "CG = partial(scipy.optimize.minimize, method='CG', callback=callback, options={\"gtol\": -1e10, \"maxiter\":10000})\n",
        "Adam = keras.optimizers.Adam(0.05, 0.09, 0.999, 1e-8, False)\n",
        "SGD = keras.optimizers.SGD(0.01, 0.8, False)\n",
        "\n",
        "starting_values=np.random.rand(11)\n",
        "print(starting_values)\n",
        "m = CG(lambda x:numpy_E(*map_inputs(x)), starting_values).x\n",
        "print(errors)\n",
        "\n",
        "def plot(title, errors):\n",
        "  fig, ax = plt.subplots()\n",
        "  plt.xlabel('Steps')\n",
        "  plt.ylabel('Error')\n",
        "  plt.title(title)\n",
        "  ax.plot(errors)\n",
        "  ax.set_yscale('log')\n",
        "\n",
        "W, w, wₒ = map_inputs(m)\n",
        "print(numpy_E(W, w, wₒ))\n",
        "#print(tensor_E(W, w, wₒ))\n",
        "plot('CG', errors)\n",
        "\n",
        "def test_optimizer(title, method):\n",
        "  errors = []\n",
        "  m = tf.Variable(starting_values)\n",
        "\n",
        "  #previous_vars = None\n",
        "  #while previous_vars is None or np.sum((previous_vars - m.numpy()) ** 2) > 1e-11:\n",
        "  #  previous_vars = m.numpy().copy()\n",
        "\n",
        "  label = HTML()\n",
        "  display(label)\n",
        "\n",
        "  #for i in range(1000):\n",
        "  e = 1000\n",
        "  while e > 1e-2:\n",
        "    steps = method.minimize(lambda:tensor_E(*map_inputs(m)), m).numpy()\n",
        "    W, w, wₒ = map_inputs(m)\n",
        "    #print(numpy_E(W, w, wₒ), np.sum((previous_vars - m.numpy()) ** 2))\n",
        "    e = numpy_E(W, w, wₒ)\n",
        "    label.value = f\"{title} ERROR: {e}\"\n",
        "    errors.append(e)\n",
        "  \n",
        "  plot(title, errors)\n",
        "\n",
        "test_optimizer('Adam', Adam)\n",
        "test_optimizer('SGD', SGD)\n",
        "\n"
      ],
      "metadata": {
        "colab": {
          "base_uri": "https://localhost:8080/",
          "height": 1000,
          "referenced_widgets": [
            "307e2ce794b04e60927b595917005cce",
            "6724b73e54224a368580f1beac5f367b",
            "abe1cfae6c8f4577b4c826ccf5f5a154",
            "358ed6847eb54c618abd5878e7a14b25",
            "a0d06a6e5f014b0295c9ea3af6f440c3",
            "b70807f5c68749a78d912ae9867128c4"
          ]
        },
        "id": "c1-IG1YMjaEf",
        "outputId": "1c81e754-639d-4042-aa4c-b2695b548ad1"
      },
      "execution_count": 46,
      "outputs": [
        {
          "output_type": "stream",
          "name": "stdout",
          "text": [
            "[6.01321930e-01 2.57792570e-01 4.96791919e-02 2.14663952e-01\n",
            " 1.24046821e-01 9.05301944e-01 7.98870153e-04 7.20107658e-01\n",
            " 1.94821695e-01 9.82796056e-01 9.62826609e-01]\n",
            "[0.5333639633290288, 0.06869800508280528, 0.013527826644117637, 0.007420211746281799, 0.003452672697604146, 0.0020801659024328022, 0.0006551625345251133, 0.0002081336558467706, 4.881116333314618e-05, 2.1167263814587816e-05, 4.214035335358107e-06, 2.5279666810891374e-06, 1.0158845623915264e-06, 3.9500815476610436e-07, 2.081739930234323e-08, 1.7406634214327966e-09, 7.94333042593774e-11, 5.534064619643029e-11, 1.8445245402670275e-11, 4.482020213778018e-12, 1.141987250014594e-12]\n",
            "1.141987250014594e-12\n"
          ]
        },
        {
          "output_type": "display_data",
          "data": {
            "text/plain": [
              "HTML(value='')"
            ],
            "application/vnd.jupyter.widget-view+json": {
              "version_major": 2,
              "version_minor": 0,
              "model_id": "307e2ce794b04e60927b595917005cce"
            }
          },
          "metadata": {}
        },
        {
          "output_type": "display_data",
          "data": {
            "text/plain": [
              "HTML(value='')"
            ],
            "application/vnd.jupyter.widget-view+json": {
              "version_major": 2,
              "version_minor": 0,
              "model_id": "358ed6847eb54c618abd5878e7a14b25"
            }
          },
          "metadata": {}
        },
        {
          "output_type": "display_data",
          "data": {
            "text/plain": [
              "<Figure size 432x288 with 1 Axes>"
            ],
            "image/png": "[encoded data removed]"
          },
          "metadata": {
            "needs_background": "light"
          }
        },
        {
          "output_type": "display_data",
          "data": {
            "text/plain": [
              "<Figure size 432x288 with 1 Axes>"
            ],
            "image/png": "[encoded data removed]"
          },
          "metadata": {
            "needs_background": "light"
          }
        },
        {
          "output_type": "display_data",
          "data": {
            "text/plain": [
              "<Figure size 432x288 with 1 Axes>"
            ],
            "image/png": "[encoded data removed]"
          },
          "metadata": {
            "needs_background": "light"
          }
        }
      ]
    },
    {
      "cell_type": "markdown",
      "source": [
        "Este bloque obtiene el resultado optimo."
      ],
      "metadata": {
        "id": "hkPViu2faDrQ"
      }
    },
    {
      "cell_type": "code",
      "source": [
        "starting_values=np.random.rand(11)\n",
        "CG = partial(scipy.optimize.minimize, method='CG', options={\"gtol\": -1e10, \"maxiter\":10000})\n",
        "m = CG(lambda x:numpy_E(*map_inputs(x)), starting_values).x\n",
        "W, w, wₒ = map_inputs(m)\n",
        "print('W', W, sep=' = ')\n",
        "print('w', w, sep=' = ')\n",
        "print('wₒ', wₒ, sep=' = ')\n",
        "print(numpy_E(W, w, wₒ))"
      ],
      "metadata": {
        "colab": {
          "base_uri": "https://localhost:8080/"
        },
        "id": "K7Fw7ujCZm66",
        "outputId": "56dfd6f6-dd96-41b7-ebf3-4104444b5134"
      },
      "execution_count": 24,
      "outputs": [
        {
          "output_type": "stream",
          "name": "stdout",
          "text": [
            "W = [13.71872365 17.72500962  9.9022185 ]\n",
            "w = [[-3.97593577  0.62174503  3.60395426]\n",
            " [-2.28924315 -0.07190228  2.49112959]]\n",
            "wₒ = [-0.15664692 -0.11995347]\n",
            "2.8811057527734308e-12\n"
          ]
        }
      ]
    }
  ]
}